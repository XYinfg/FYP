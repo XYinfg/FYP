{
 "cells": [
  {
   "cell_type": "code",
   "execution_count": 2,
   "metadata": {},
   "outputs": [
    {
     "name": "stdout",
     "output_type": "stream",
     "text": [
      "   timestamp   job_ID  task_index  event_type  cpu_request  memory_request\n",
      "0          0  3418309           0           0          NaN             NaN\n",
      "1          0  3418309           1           0          NaN             NaN\n",
      "2          0  3418314           0           0        0.125         0.07446\n",
      "3          0  3418314           1           0        0.125         0.07446\n",
      "4          0  3418319           0           0          NaN             NaN\n"
     ]
    }
   ],
   "source": [
    "import pandas as pd\n",
    "\n",
    "# Load the gzipped CSV file\n",
    "df = pd.read_csv(\"../data/task_events/part-00000-of-00500.csv.gz\", header=None)\n",
    "\n",
    "# Assign column names based on the schema\n",
    "df.columns = [\n",
    "    \"timestamp\", \"missing_info\", \"job_ID\", \"task_index\", \"machine_ID\", \n",
    "    \"event_type\", \"user_name\", \"scheduling_class\", \"priority\", \n",
    "    \"cpu_request\", \"memory_request\", \"resource_request_disk\", \n",
    "    \"different_machine_constraint\"\n",
    "]\n",
    "\n",
    "# Select specific columns for further analysis\n",
    "df = df[[\"timestamp\", \"job_ID\", \"task_index\", \"event_type\", \"cpu_request\", \"memory_request\"]]\n",
    "\n",
    "# Display the first 5 rows\n",
    "print(df.head(5))"
   ]
  },
  {
   "cell_type": "code",
   "execution_count": null,
   "metadata": {},
   "outputs": [],
   "source": []
  }
 ],
 "metadata": {
  "kernelspec": {
   "display_name": "Python 3",
   "language": "python",
   "name": "python3"
  },
  "language_info": {
   "codemirror_mode": {
    "name": "ipython",
    "version": 3
   },
   "file_extension": ".py",
   "mimetype": "text/x-python",
   "name": "python",
   "nbconvert_exporter": "python",
   "pygments_lexer": "ipython3",
   "version": "3.10.0"
  }
 },
 "nbformat": 4,
 "nbformat_minor": 2
}
